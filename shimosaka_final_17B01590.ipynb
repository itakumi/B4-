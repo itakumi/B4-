{
  "nbformat": 4,
  "nbformat_minor": 0,
  "metadata": {
    "colab": {
      "name": "shimosaka_final_17B01590.ipynb",
      "provenance": [],
      "collapsed_sections": [],
      "include_colab_link": true
    },
    "kernelspec": {
      "name": "python3",
      "display_name": "Python 3"
    }
  },
  "cells": [
    {
      "cell_type": "markdown",
      "metadata": {
        "id": "view-in-github",
        "colab_type": "text"
      },
      "source": [
        "<a href=\"https://colab.research.google.com/github/itakumi/B4-/blob/master/shimosaka_final_17B01590.ipynb\" target=\"_parent\"><img src=\"https://colab.research.google.com/assets/colab-badge.svg\" alt=\"Open In Colab\"/></a>"
      ]
    },
    {
      "cell_type": "code",
      "metadata": {
        "id": "fyfdiTizgHzd",
        "colab_type": "code",
        "colab": {}
      },
      "source": [
        "# requirements\n",
        "import numpy as np\n",
        "import matplotlib.pyplot as plt\n",
        "import cvxpy as cv"
      ],
      "execution_count": 2,
      "outputs": []
    },
    {
      "cell_type": "markdown",
      "metadata": {
        "id": "GWpRlNgofk-W",
        "colab_type": "text"
      },
      "source": [
        "# Datasets"
      ]
    },
    {
      "cell_type": "code",
      "metadata": {
        "id": "An-Z4VyvgBSk",
        "colab_type": "code",
        "colab": {
          "base_uri": "https://localhost:8080/",
          "height": 282
        },
        "outputId": "b3da3375-df4b-4f6d-ca12-1b8d8a2c0650"
      },
      "source": [
        "# dataset 1\n",
        "np.random.seed(123)\n",
        "n = 100\n",
        "x_d1 = 3 * (np.random.rand(n, 2)-0.5)\n",
        "radius = x_d1[:,0]**2 + x_d1[:,1]**2\n",
        "y_d1 = (radius > 0.7 + 0.1 * np.random.randn(n)) &( radius < 2.2 + 0.1 * np.random.randn(n))\n",
        "y_d1 = 2 * y_d1 -1\n",
        "\n",
        "plt.plot(x_d1[y_d1 < 0, 0],  x_d1[y_d1 < 0, 1], 'bs')\n",
        "plt.plot(x_d1[y_d1 > 0, 0],  x_d1[y_d1 > 0, 1], 'ro')"
      ],
      "execution_count": null,
      "outputs": [
        {
          "output_type": "execute_result",
          "data": {
            "text/plain": [
              "[<matplotlib.lines.Line2D at 0x7f907c474ac8>]"
            ]
          },
          "metadata": {
            "tags": []
          },
          "execution_count": 14
        },
        {
          "output_type": "display_data",
          "data": {
            "image/png": "[encoded data removed]",
            "text/plain": [
              "<Figure size 432x288 with 1 Axes>"
            ]
          },
          "metadata": {
            "tags": [],
            "needs_background": "light"
          }
        }
      ]
    },
    {
      "cell_type": "code",
      "metadata": {
        "id": "lBWTGt52kF8k",
        "colab_type": "code",
        "colab": {}
      },
      "source": [
        "# dataset 2\n",
        "n = 4000\n",
        "omega = np.random.randn()\n",
        "noise = 0.8 * np.random.randn(n)\n",
        "\n",
        "x_d2 = np.random.randn(n, 2) + 0\n",
        "y_d2 = 2 * (omega * x_d2[:,0] + x_d2[:,1] + noise > 0) - 1\n",
        "\n",
        "plt.plot(np.extract(y_d2>0,x_d2[:,0]),np.extract(y_d2>0,x_d2[:,1]), 'x')\n",
        "plt.plot(np.extract(y_d2<0,x_d2[:,0]),np.extract(y_d2<0,x_d2[:,1]), 'o')"
      ],
      "execution_count": null,
      "outputs": []
    },
    {
      "cell_type": "code",
      "metadata": {
        "id": "OiAAslhUkM4O",
        "colab_type": "code",
        "colab": {
          "base_uri": "https://localhost:8080/",
          "height": 287
        },
        "outputId": "5f3f60c5-3ee8-4907-918f-8f493b58b0f3"
      },
      "source": [
        "#dataset3\n",
        "np.random.seed(1234)\n",
        "m = 20\n",
        "n = 40\n",
        "r = 2\n",
        "A = np.dot(np.random.rand(m, r), np.random.rand(r, n)).flatten()\n",
        "ninc = 100\n",
        "Q = np.random.permutation(m * n)[:ninc]\n",
        "A[Q] = None\n",
        "A = A.reshape(m, n)\n",
        "\n",
        "plt.pcolor(A, cmap=plt.cm.plasma)"
      ],
      "execution_count": 12,
      "outputs": [
        {
          "output_type": "execute_result",
          "data": {
            "text/plain": [
              "<matplotlib.collections.PolyCollection at 0x7ff3ed8f6fd0>"
            ]
          },
          "metadata": {
            "tags": []
          },
          "execution_count": 12
        },
        {
          "output_type": "display_data",
          "data": {
            "image/png": "[encoded data removed]",
            "text/plain": [
              "<Figure size 432x288 with 1 Axes>"
            ]
          },
          "metadata": {
            "tags": [],
            "needs_background": "light"
          }
        }
      ]
    },
    {
      "cell_type": "code",
      "metadata": {
        "id": "nw9srB9Q8gsO",
        "colab_type": "code",
        "colab": {}
      },
      "source": [
        "# dataset 4\n",
        "n = 200\n",
        "x_d4 = 3 * (np.random.rand(n, 4) - 0.5) #-0.5~0.5において乱数を生成(200*4)\n",
        "y_d4 = (2 * x_d4[:, 0] - 1 * x_d4[:,1] + 0.5 + 0.5 * np.random.randn(n)) > 0\n",
        "y_d4 = 2 * y_d4 -1\n",
        "x_d4 = np.hstack([x_d4, np.ones((n, 1))]) #bias項の追加"
      ],
      "execution_count": 13,
      "outputs": []
    },
    {
      "cell_type": "code",
      "metadata": {
        "id": "fUxJDZON9n9V",
        "colab_type": "code",
        "colab": {}
      },
      "source": [
        "# dataset 5\n",
        "n = 200\n",
        "x_d5 = 3 * (np.random.rand(n, 4) - 0.5)\n",
        "W = np.array([[ 2,  -1, 0.5,],\n",
        "              [-3,   2,   1,],\n",
        "              [ 1,   2,   3]])\n",
        "y_d5 = np.argmax(np.dot(np.hstack([x_d5[:,:2], np.ones((n, 1))]), W.T)\n",
        "                        + 0.5 * np.random.randn(n, 3), axis=1)\n",
        "x_d5 = np.hstack([x_d5, np.ones((n, 1))]) #bias項の追加"
      ],
      "execution_count": 10,
      "outputs": []
    },
    {
      "cell_type": "code",
      "metadata": {
        "id": "R-BExPFuCr4-",
        "colab_type": "code",
        "colab": {}
      },
      "source": [
        "# dataset 6\n",
        "d_d6 = 200\n",
        "n_d6 = 180\n",
        "\n",
        "# we consider 5 groups where each group has 40 attributes\n",
        "groupSize = 5\n",
        "attrSize = 40\n",
        "g_d6 = np.arange(groupSize*attrSize).reshape(groupSize,-1)\n",
        "\n",
        "x_d6 = np.random.randn(n_d6, d_d6)\n",
        "noise_d6 = 0.5\n",
        "\n",
        "# we consider feature in group 1 and group 2 is activated.\n",
        "w_d6 = np.vstack([20 * np.random.randn(80, 1),\n",
        "                 np.zeros((120, 1)),\n",
        "                 5 * np.random.rand()])\n",
        "x_d6_tilde = np.hstack([x_d6, np.ones((n_d6, 1))])\n",
        "y_d6 = np.dot(x_d6_tilde, w_d6) + noise_d6 * np.random.randn(n_d6, 1)"
      ],
      "execution_count": 11,
      "outputs": []
    },
    {
      "cell_type": "markdown",
      "metadata": {
        "id": "IrhDZAmp8DlM",
        "colab_type": "text"
      },
      "source": [
        "# Problem 1"
      ]
    },
    {
      "cell_type": "code",
      "metadata": {
        "id": "xONF7HSY8B_R",
        "colab_type": "code",
        "colab": {}
      },
      "source": [
        "# requirement\n",
        "import numpy as np\n",
        "import matplotlib.pyplot as plt\n",
        "import cvxpy\n",
        "np.random.seed(123)"
      ],
      "execution_count": null,
      "outputs": []
    },
    {
      "cell_type": "markdown",
      "metadata": {
        "id": "NNx2ue0hr2cT",
        "colab_type": "text"
      },
      "source": [
        "##Problem 1-1"
      ]
    },
    {
      "cell_type": "code",
      "metadata": {
        "id": "Z8Zc2Z5u-NTp",
        "colab_type": "code",
        "colab": {
          "base_uri": "https://localhost:8080/",
          "height": 279
        },
        "outputId": "f6017843-3f03-4201-f652-37c5ad701cf9"
      },
      "source": [
        "loss_hist_batch = [] # to store the history of loss J(w_t)\n",
        "\n",
        "# implement batch steepest gradient method here\n",
        "num_iter = 300\n",
        "ww = np.random.rand(5)\n",
        "alpha_base = 0.02\n",
        "lam = 0.01\n",
        "\n",
        "for t in range(1,num_iter+1):\n",
        "    posterior = 1 / (1 + np.exp(-y_d4.reshape(200,1) * (np.dot(x_d4,ww.reshape(5,1))))) #事後確率\n",
        "    direction =  -(np.sum(((1 - posterior).reshape(200,1) * (-y_d4).reshape(200,1) * x_d4),axis=0) + 2*lam*ww) #勾配\n",
        "    ll = np.sum(np.log(1.0 + np.exp(-y_d4.reshape(200,1) * (np.dot(x_d4,ww.reshape(5,1)))))) + lam*np.dot(ww.T,ww) #loss計算\n",
        "    loss_hist_batch.append(ll);\n",
        "    ww = ww + alpha_base * 1.0 * direction; #ww更新\n",
        "\n",
        "TrueSolution_batch=min(loss_hist_batch) #最適な値を探す\n",
        "plt.plot(abs(loss_hist_batch-TrueSolution_batch), 'bo-', linewidth=0.5, markersize=0.5, label='steepest')\n",
        "plt.legend()\n",
        "plt.xlabel('iter')\n",
        "plt.ylabel('loss')\n",
        "plt.show()"
      ],
      "execution_count": 20,
      "outputs": [
        {
          "output_type": "display_data",
          "data": {
            "image/png": "[encoded data removed]",
            "text/plain": [
              "<Figure size 432x288 with 1 Axes>"
            ]
          },
          "metadata": {
            "tags": [],
            "needs_background": "light"
          }
        }
      ]
    },
    {
      "cell_type": "markdown",
      "metadata": {
        "id": "BZhuNcbNr8Zr",
        "colab_type": "text"
      },
      "source": [
        "##Problem 1-2"
      ]
    },
    {
      "cell_type": "code",
      "metadata": {
        "id": "X42JKvHsDptm",
        "colab_type": "code",
        "colab": {
          "base_uri": "https://localhost:8080/",
          "height": 279
        },
        "outputId": "92115029-bb44-44fc-ca61-d487c1c2635b"
      },
      "source": [
        "loss_hist_newton = [] # to store the history of loss J(w_t)\n",
        "# implement Newton based method here\n",
        "ww = np.random.rand(5)\n",
        "num_iter = 300\n",
        "alpha = 1\n",
        "lam = 0.01\n",
        "\n",
        "for t in range(1,num_iter+1):\n",
        "    posterior = 1 / (1 + np.exp(-y_d4.reshape(200,1) * (np.dot(x_d4,ww.reshape(5,1))))) #事後確率\n",
        "    grad =  -(np.sum(((1 - posterior).reshape(200,1) * (-y_d4).reshape(200,1) * x_d4),axis=0) + 2*lam*ww) #勾配\n",
        "\n",
        "    #以下ヘシアンの計算\n",
        "    hess=2*lam*np.eye(5) #5*5\n",
        "    for i in range(200):\n",
        "      hess += (posterior[i] * (1 - posterior[i]) * np.dot(x_d4[i].reshape(5,1),x_d4[i].reshape(5,1).T))\n",
        "    ll = np.sum(np.log(1.0 + np.exp(-y_d4.reshape(200,1) * (np.dot(x_d4,ww.reshape(5,1)))))) + lam*np.dot(ww.T,ww) #loss計算\n",
        "    loss_hist_newton.append(ll)\n",
        "    ww = ww + np.dot(grad , np.linalg.inv(hess)) * alpha\n",
        "\n",
        "TrueSolution_newton=min(loss_hist_newton)\n",
        "plt.plot(abs(loss_hist_newton-TrueSolution_newton), 'ro-', linewidth=0.5, markersize=0.5, label='newton')\n",
        "plt.legend()\n",
        "plt.xlabel('iter')\n",
        "plt.ylabel('loss')\n",
        "plt.show()"
      ],
      "execution_count": 21,
      "outputs": [
        {
          "output_type": "display_data",
          "data": {
            "image/png": "[encoded data removed]",
            "text/plain": [
              "<Figure size 432x288 with 1 Axes>"
            ]
          },
          "metadata": {
            "tags": [],
            "needs_background": "light"
          }
        }
      ]
    },
    {
      "cell_type": "markdown",
      "metadata": {
        "id": "Zn1LjsIY3GX1",
        "colab_type": "text"
      },
      "source": [
        "##Problem 1-3"
      ]
    },
    {
      "cell_type": "code",
      "metadata": {
        "id": "p1dl5DU_9p5m",
        "colab_type": "code",
        "colab": {
          "base_uri": "https://localhost:8080/",
          "height": 265
        },
        "outputId": "73eaf593-1631-45b6-a433-245467146b48"
      },
      "source": [
        "# plot the result\n",
        "plt.plot(loss_hist_batch)\n",
        "plt.plot(loss_hist_newton)\n",
        "plt.yscale('log')"
      ],
      "execution_count": 17,
      "outputs": [
        {
          "output_type": "display_data",
          "data": {
            "image/png": "[encoded data removed]",
            "text/plain": [
              "<Figure size 432x288 with 1 Axes>"
            ]
          },
          "metadata": {
            "tags": [],
            "needs_background": "light"
          }
        }
      ]
    },
    {
      "cell_type": "markdown",
      "metadata": {
        "id": "aPKULeoLLv5x",
        "colab_type": "text"
      },
      "source": [
        "## Problem 1-4"
      ]
    },
    {
      "cell_type": "code",
      "metadata": {
        "id": "TT4Bo7sy0S-z",
        "colab_type": "code",
        "colab": {
          "base_uri": "https://localhost:8080/",
          "height": 279
        },
        "outputId": "75571961-9174-4f99-9411-fb931933538f"
      },
      "source": [
        "loss_hist_batch = [] # to store the history of loss J(w_t)\n",
        "\n",
        "num_iter = 300\n",
        "ww = np.random.rand(3,5)\n",
        "alpha_base = 0.02\n",
        "lam = 0.01\n",
        "\n",
        "for t in range(1,num_iter+1):\n",
        "    direction=np.zeros((3,5))\n",
        "    for c in range(3):#クラスごとの勾配\n",
        "      direction[c] = -(-np.dot((y_d5==c).reshape(1,200),x_d5) + np.sum(x_d5.T*(np.exp(np.dot(x_d5,ww[c].T))/np.sum(np.exp(np.dot(x_d5,ww.T)),axis=1)) ,axis=1) + 2*lam*ww[c])\n",
        "      \"\"\" 正解ラベルと等しい時-x_i \"\"\"\n",
        "\n",
        "    ll=np.sum(np.log(np.sum(np.exp(np.dot(x_d5,ww.T)),axis=1))-np.diag(np.dot(x_d5,ww[y_d5].T))) + lam*np.sum(np.diag(np.dot(ww.T,ww)))\n",
        "    #w[y_d5]正解ラベルの重み\n",
        "    loss_hist_batch.append(ll)\n",
        "    ww = ww + alpha_base * 1.0 * direction\n",
        "\n",
        "TrueSolution=min(loss_hist_batch) #最適な値を探す\n",
        "plt.plot(abs(loss_hist_batch-TrueSolution), 'bo-', linewidth=0.5, markersize=0.5, label='steepest')\n",
        "plt.legend()\n",
        "plt.xlabel('iter')\n",
        "plt.ylabel('loss')\n",
        "plt.show()"
      ],
      "execution_count": 26,
      "outputs": [
        {
          "output_type": "display_data",
          "data": {
            "image/png": "[encoded data removed]",
            "text/plain": [
              "<Figure size 432x288 with 1 Axes>"
            ]
          },
          "metadata": {
            "tags": [],
            "needs_background": "light"
          }
        }
      ]
    },
    {
      "cell_type": "code",
      "metadata": {
        "id": "LZsO88rDp5wK",
        "colab_type": "code",
        "colab": {
          "base_uri": "https://localhost:8080/",
          "height": 279
        },
        "outputId": "23af29e8-08ce-4293-d34a-1ff73460273a"
      },
      "source": [
        "loss_hist_newton = [] # to store the history of loss J(w_t)\n",
        "ww_n_history=[]\n",
        "ww = np.random.rand(3,5)\n",
        "num_iter = 300\n",
        "alpha = 0.77\n",
        "lam = 0.01\n",
        "for t in range(1,num_iter+1):\n",
        "    grad=np.zeros((3,5))\n",
        "    for c in range(3):#クラスごとの勾配\n",
        "      grad[c] = -(-np.dot((y_d5==c).reshape(1,200),x_d5) + np.sum(x_d5.T*(np.exp(np.dot(x_d5,ww[c].T))/np.sum(np.exp(np.dot(x_d5,ww.T)),axis=1)) ,axis=1) + 2*lam*ww[c])\n",
        "      \"\"\" 正解ラベルと等しい時は(-x_i) \"\"\"\n",
        "\n",
        "    hess=np.zeros((3,5,5)) \n",
        "    for c in range(3):\n",
        "      hess[c] = 2*lam*np.eye(5)\n",
        "      hess[c] += np.dot((x_d5*((np.exp(np.dot(x_d5,ww[c].T))*(np.sum(np.exp(np.dot(x_d5,ww.T)),axis=1)-np.exp(np.dot(x_d5,ww[c].T))))/(np.sum(np.exp(np.dot(x_d5,ww.T)),axis=1)**2)).reshape(200,1)).T,x_d5)\n",
        "      ww[c] = ww[c] + np.dot(np.linalg.inv(hess[c]),grad[c]) * alpha\n",
        "\n",
        "    ll=np.sum(np.log(np.sum(np.exp(np.dot(x_d5,ww.T)),axis=1))-np.diag(np.dot(x_d5,ww[y_d5].T))) + lam*np.sum(np.diag(np.dot(ww.T,ww)))\n",
        "    #w[y_d5]正解ラベルの重み\n",
        "    loss_hist_newton.append(ll)\n",
        "\n",
        "TrueSolution=min(loss_hist_newton)\n",
        "plt.plot(abs(loss_hist_newton-TrueSolution), 'ro-', linewidth=0.5, markersize=0.5, label='newton')\n",
        "plt.legend()\n",
        "plt.xlabel('iter')\n",
        "plt.ylabel('loss')\n",
        "plt.show()\n",
        "# implement Newton based method here"
      ],
      "execution_count": 27,
      "outputs": [
        {
          "output_type": "display_data",
          "data": {
            "image/png": "[encoded data removed]",
            "text/plain": [
              "<Figure size 432x288 with 1 Axes>"
            ]
          },
          "metadata": {
            "tags": [],
            "needs_background": "light"
          }
        }
      ]
    },
    {
      "cell_type": "code",
      "metadata": {
        "id": "Ds3mvPi05VRs",
        "colab_type": "code",
        "colab": {
          "base_uri": "https://localhost:8080/",
          "height": 265
        },
        "outputId": "6f746a52-90b5-4b21-f4f2-dda57355589b"
      },
      "source": [
        "# plot the result\n",
        "plt.plot(loss_hist_batch)#,label='steepest')\n",
        "plt.plot(loss_hist_newton)#,label='newton')\n",
        "plt.yscale('log')"
      ],
      "execution_count": 28,
      "outputs": [
        {
          "output_type": "display_data",
          "data": {
            "image/png": "[encoded data removed]",
            "text/plain": [
              "<Figure size 432x288 with 1 Axes>"
            ]
          },
          "metadata": {
            "tags": [],
            "needs_background": "light"
          }
        }
      ]
    },
    {
      "cell_type": "markdown",
      "metadata": {
        "id": "9chhWc7rED2V",
        "colab_type": "text"
      },
      "source": [
        "# Problem 2"
      ]
    },
    {
      "cell_type": "code",
      "metadata": {
        "id": "GSdaa2W0EIRY",
        "colab_type": "code",
        "colab": {
          "base_uri": "https://localhost:8080/",
          "height": 282
        },
        "outputId": "54bcc741-7d49-4d15-9905-930a25d1a314"
      },
      "source": [
        "# requirement\n",
        "import numpy as np\n",
        "import matplotlib.pyplot as plt\n",
        "import cvxpy as cv\n",
        "\n",
        "# prepare dataset\n",
        "np.random.seed(3846)\n",
        "n = 40\n",
        "omega = np.random.randn()\n",
        "noise = 0.8 * np.random.randn(n)\n",
        "\n",
        "x = np.random.randn(n, 2) + 0\n",
        "y = 2 * (omega * x[:,0] + x[:,1] + noise > 0) - 1\n",
        "\n",
        "plt.plot(np.extract(y>0,x[:,0]),np.extract(y>0,x[:,1]), 'x')\n",
        "plt.plot(np.extract(y<0,x[:,0]),np.extract(y<0,x[:,1]), 'o')"
      ],
      "execution_count": null,
      "outputs": [
        {
          "output_type": "execute_result",
          "data": {
            "text/plain": [
              "[<matplotlib.lines.Line2D at 0x7fc94aadd048>]"
            ]
          },
          "metadata": {
            "tags": []
          },
          "execution_count": 33
        },
        {
          "output_type": "display_data",
          "data": {
            "image/png": "[encoded data removed]",
            "text/plain": [
              "<Figure size 432x288 with 1 Axes>"
            ]
          },
          "metadata": {
            "tags": [],
            "needs_background": "light"
          }
        }
      ]
    },
    {
      "cell_type": "code",
      "metadata": {
        "id": "mc6vqY0sFFVQ",
        "colab_type": "code",
        "colab": {}
      },
      "source": [
        "def st_ops(mu, q):\n",
        "  x_proj = np.zeros(mu.shape)\n",
        "  for i in range(len(mu)):\n",
        "    if mu[i] > q:\n",
        "      x_proj[i] = mu[i] - q\n",
        "    else:\n",
        "      if np.abs(mu[i]) < q:\n",
        "        x_proj[i] = 0\n",
        "      else:\n",
        "        x_proj[i] = mu[i] + q; \n",
        "  return x_proj"
      ],
      "execution_count": null,
      "outputs": []
    },
    {
      "cell_type": "markdown",
      "metadata": {
        "id": "-54IlFSdsDgg",
        "colab_type": "text"
      },
      "source": [
        "##Problem 2-1"
      ]
    },
    {
      "cell_type": "code",
      "metadata": {
        "id": "VN3vN0ddEKfq",
        "colab_type": "code",
        "colab": {
          "base_uri": "https://localhost:8080/",
          "height": 279
        },
        "outputId": "11c37652-0b6e-4fe0-8ed0-767f5747bb0b"
      },
      "source": [
        "# condition\n",
        "A = np.array([[  3, 0.5],\n",
        "              [0.5,   1]])\n",
        "mu = np.array([[1],\n",
        "               [2]])\n",
        "w_init = np.random.rand(2,1)\n",
        "ww_history_lam_2=[]\n",
        "ww_history_lam_4=[]\n",
        "ww_history_lam_6=[]\n",
        "l,v=np.linalg.eig(2*A)\n",
        "ganma=1.01*np.max(l)\n",
        "\n",
        "#lam=2の場合\n",
        "wt=w_init\n",
        "lam=2\n",
        "for t in range(1,50):\n",
        "  ww_history_lam_2.append(wt.T)\n",
        "  grad = 2 * np.dot(A, wt-mu)\n",
        "  xth=wt-1/ganma*grad\n",
        "  wt=st_ops(xth,lam/ganma)\n",
        "ww_history_lam_2=np.vstack(ww_history_lam_2)\n",
        "ww_TrueSolusion_lam_2=np.array([[ 0.82], [  1.09]])\n",
        "\n",
        "#lam=4の場合\n",
        "wt=w_init\n",
        "lam=4\n",
        "for t in range(1,50):\n",
        "  ww_history_lam_4.append(wt.T)\n",
        "  grad = 2 * np.dot(A, wt-mu)\n",
        "  xth=wt-1/ganma*grad\n",
        "  wt=st_ops(xth,lam/ganma)\n",
        "ww_history_lam_4=np.vstack(ww_history_lam_4)\n",
        "ww_TrueSolusion_lam_4=np.array([[ 0.64], [0.18]])\n",
        "\n",
        "#lam=6の場合\n",
        "wt=w_init\n",
        "lam=6\n",
        "for t in range(1,50):\n",
        "  ww_history_lam_6.append(wt.T)\n",
        "  grad = 2 * np.dot(A, wt-mu)\n",
        "  xth=wt-1/ganma*grad\n",
        "  wt=st_ops(xth,lam/ganma)\n",
        "ww_history_lam_6=np.vstack(ww_history_lam_6)\n",
        "ww_TrueSolusion_lam_6=np.array([[ 0.33], [0]])\n",
        "\n",
        "plt.plot(abs(ww_history_lam_2[:,0]-ww_TrueSolusion_lam_2[0]) +abs(ww_history_lam_2[:,1]-ww_TrueSolusion_lam_2[1]), 'ro-', markersize=3, linewidth=0.5,label='lam=2')\n",
        "plt.plot(abs(ww_history_lam_4[:,0]-ww_TrueSolusion_lam_4[0]) +abs(ww_history_lam_4[:,1]-ww_TrueSolusion_lam_4[1]), 'go-', markersize=3, linewidth=0.5,label='lam=4')\n",
        "plt.plot(abs(ww_history_lam_6[:,0]-ww_TrueSolusion_lam_6[0]) +abs(ww_history_lam_6[:,1]-ww_TrueSolusion_lam_6[1]), 'bo-', markersize=3, linewidth=0.5,label='lam=6')\n",
        "plt.legend()\n",
        "plt.xlabel('iter')\n",
        "plt.ylabel('w(t)-w_hat')\n",
        "plt.yscale('log')"
      ],
      "execution_count": null,
      "outputs": [
        {
          "output_type": "display_data",
          "data": {
            "image/png": "[encoded data removed]",
            "text/plain": [
              "<Figure size 432x288 with 1 Axes>"
            ]
          },
          "metadata": {
            "tags": [],
            "needs_background": "light"
          }
        }
      ]
    },
    {
      "cell_type": "markdown",
      "metadata": {
        "id": "ClMf2bFOsIgj",
        "colab_type": "text"
      },
      "source": [
        "##Problem 2-2"
      ]
    },
    {
      "cell_type": "code",
      "metadata": {
        "id": "PuA6fscyEhjC",
        "colab_type": "code",
        "colab": {
          "base_uri": "https://localhost:8080/",
          "height": 279
        },
        "outputId": "aa993519-0b01-464b-93f2-e279a1eb8481"
      },
      "source": [
        "w_hat_lam = []\n",
        "w_init = np.random.rand(2,1)\n",
        "lams = np.arange(0, 6, 0.1)\n",
        "w_hat = np.zeros((2,1))\n",
        "l,v=np.linalg.eig(2*A)\n",
        "ganma=1.01*np.max(l)\n",
        "for lam in lams:\n",
        "  ww_history=[]\n",
        "  wt=w_init\n",
        "  for t in range(1,50):\n",
        "    ww_history.append(wt.T)\n",
        "    grad = 2 * np.dot(A, wt-mu)\n",
        "    xth=wt-1/ganma*grad\n",
        "    wt=st_ops(xth,lam/ganma)\n",
        "  w_hat=wt\n",
        "  w_hat_lam.append(w_hat.T)\n",
        "\n",
        "w_hat_lam=np.vstack(w_hat_lam)\n",
        "plt.plot(lams, w_hat_lam[:,0], 'bo-', markersize=3, linewidth=0.5,label='w1')\n",
        "plt.plot(lams, w_hat_lam[:,1], 'ro-', markersize=3, linewidth=0.5,label='w2')\n",
        "plt.legend()\n",
        "plt.xlabel('lam')\n",
        "plt.ylabel('w_hat')\n",
        "plt.show()"
      ],
      "execution_count": null,
      "outputs": [
        {
          "output_type": "display_data",
          "data": {
            "image/png": "[encoded data removed]",
            "text/plain": [
              "<Figure size 432x288 with 1 Axes>"
            ]
          },
          "metadata": {
            "tags": [],
            "needs_background": "light"
          }
        }
      ]
    },
    {
      "cell_type": "markdown",
      "metadata": {
        "id": "n09hsyLjZTo6",
        "colab_type": "text"
      },
      "source": [
        "## example of group lasso (using dataset 6)"
      ]
    },
    {
      "cell_type": "code",
      "metadata": {
        "id": "5h-dXGSbLChA",
        "colab_type": "code",
        "colab": {
          "base_uri": "https://localhost:8080/",
          "height": 282
        },
        "outputId": "9ae4272d-638b-4929-be73-7ae2f5f34c58"
      },
      "source": [
        "import cvxpy as cv\n",
        "import matplotlib.pyplot as plt\n",
        "\n",
        "def mldivide(A, b):\n",
        "  piA = np.linalg.pinv(A)\n",
        "  x = np.dot(piA, b)\n",
        "  return x\n",
        "\n",
        "# run the cell which preparing dataset 6 before run this cell\n",
        "y = y_d6\n",
        "x_tilde = x_d6_tilde\n",
        "w = w_d6\n",
        "noise = noise_d6\n",
        "n = n_d6\n",
        "d = d_d6\n",
        "g = g_d6\n",
        "\n",
        "lam = 1.0\n",
        "wridge = mldivide(np.dot(x_tilde.T, x_tilde) + lam * np.eye(d+1), \n",
        "                  np.dot(x_tilde.T, y))\n",
        "\n",
        "# cvx\n",
        "west = cv.Variable((d+1,1))\n",
        "obj_fn = \\\n",
        "  0.5 / n * cv.quad_form(x_tilde * west - y, np.eye(x_tilde.shape[0])) + \\\n",
        "  lam * (cv.norm(west[g[0]], 2.0) + \\\n",
        "         cv.norm(west[g[1]], 2.0) + \\\n",
        "         cv.norm(west[g[2]], 2.0) + \\\n",
        "         cv.norm(west[g[3]], 2.0) + \\\n",
        "         cv.norm(west[g[4]], 2.0) )\n",
        "  \n",
        "objective = cv.Minimize(obj_fn)\n",
        "constraints = []\n",
        "\n",
        "prob = cv.Problem(objective, constraints)\n",
        "result = prob.solve(solver=cv.CVXOPT)\n",
        "\n",
        "# test\n",
        "x_test = np.random.randn(n, d)\n",
        "x_test_tilde = np.hstack([x_test, np.ones((n, 1))])\n",
        "y_test = np.dot(x_test_tilde, w) + noise * np.random.randn(n, 1)\n",
        "y_pred = np.dot(x_test_tilde, west.value)\n",
        "print(np.mean((y_pred - y_test)**2))\n",
        "plt.plot(west.value[0:d], 'r-o', markersize=1.5, linewidth=0.5,label='west.value')\n",
        "plt.legend()\n",
        "plt.show()"
      ],
      "execution_count": 6,
      "outputs": [
        {
          "output_type": "stream",
          "text": [
            "2752.516243556563\n"
          ],
          "name": "stdout"
        },
        {
          "output_type": "display_data",
          "data": {
            "image/png": "[encoded data removed]",
            "text/plain": [
              "<Figure size 432x288 with 1 Axes>"
            ]
          },
          "metadata": {
            "tags": [],
            "needs_background": "light"
          }
        }
      ]
    },
    {
      "cell_type": "markdown",
      "metadata": {
        "id": "N8YA6oxmsOJ1",
        "colab_type": "text"
      },
      "source": [
        "##Problem 2-3"
      ]
    },
    {
      "cell_type": "code",
      "metadata": {
        "id": "fbGeH_m16XHo",
        "colab_type": "code",
        "colab": {
          "base_uri": "https://localhost:8080/",
          "height": 282
        },
        "outputId": "a92650b9-c5b0-409f-e514-7f4e5c67441d"
      },
      "source": [
        "import cvxpy as cv\n",
        "import matplotlib.pyplot as plt\n",
        "\n",
        "def mldivide(A, b):\n",
        "  piA = np.linalg.pinv(A)\n",
        "  x = np.dot(piA, b)\n",
        "  return x\n",
        "\n",
        "# run the cell which preparing dataset 6 before run this cell\n",
        "y = y_d6\n",
        "x_tilde = x_d6_tilde\n",
        "w = w_d6\n",
        "#print(w)\n",
        "noise = noise_d6\n",
        "n = n_d6\n",
        "d = d_d6\n",
        "g = g_d6\n",
        "#print(g)\n",
        "eta=0.2\n",
        "w_tilde = np.zeros(((201,1)),dtype=float)\n",
        "lam = 1.0\n",
        "wridge = mldivide(np.dot(x_tilde.T, x_tilde) + lam * np.eye(d+1), \n",
        "                  np.dot(x_tilde.T, y))\n",
        "\n",
        "w_init=np.random.rand(201,1)\n",
        "w_tilde=w_init\n",
        "num_iter=500\n",
        "plot_history=[]\n",
        "for i in range(num_iter):\n",
        "  for t in range(201):\n",
        "    w_tilde[t]=w[t]-eta/n*(np.dot(np.dot(x_tilde.T,x_tilde),w)-np.dot(x_tilde.T,y))[t]\n",
        "    for j in range(5):\n",
        "      w_tilde_gj_l2norm=float(np.sum(np.sqrt(np.dot(w_tilde[g[j]].T,w_tilde[g[j]]))))\n",
        "      w[g[j]]=max(0.0,1.0-(eta*lam/w_tilde_gj_l2norm))*w_tilde[g[j]]\n",
        "\n",
        "w_hat=w\n",
        "\n",
        "# test\n",
        "x_test = np.random.randn(n, d)\n",
        "x_test_tilde = np.hstack([x_test, np.ones((n, 1))])\n",
        "y_test = np.dot(x_test_tilde, w) + noise * np.random.randn(n, 1)\n",
        "y_pred = np.dot(x_test_tilde, w_hat)\n",
        "print(np.mean((y_pred - y_test)**2))\n",
        "\n",
        "plt.plot(w_hat[0:d], 'b-*', markersize=1.5, linewidth=0.5,label='w_hat')\n",
        "plt.legend()\n",
        "plt.show()"
      ],
      "execution_count": 7,
      "outputs": [
        {
          "output_type": "stream",
          "text": [
            "0.28311037802678035\n"
          ],
          "name": "stdout"
        },
        {
          "output_type": "display_data",
          "data": {
            "image/png": "[encoded data removed]",
            "text/plain": [
              "<Figure size 432x288 with 1 Axes>"
            ]
          },
          "metadata": {
            "tags": [],
            "needs_background": "light"
          }
        }
      ]
    },
    {
      "cell_type": "code",
      "metadata": {
        "id": "9CfvKekdOaZ9",
        "colab_type": "code",
        "colab": {
          "base_uri": "https://localhost:8080/",
          "height": 265
        },
        "outputId": "2b577c38-5163-4a7e-e92d-e9ca326f0591"
      },
      "source": [
        "plt.plot(west.value[0:d], 'r-o', markersize=1.5, linewidth=0.5,label='west.value')\n",
        "plt.plot(w_hat[0:d], 'b-*', markersize=1.5, linewidth=0.5,label='w_hat')\n",
        "plt.legend()\n",
        "plt.show()"
      ],
      "execution_count": 9,
      "outputs": [
        {
          "output_type": "display_data",
          "data": {
            "image/png": "[encoded data removed]",
            "text/plain": [
              "<Figure size 432x288 with 1 Axes>"
            ]
          },
          "metadata": {
            "tags": [],
            "needs_background": "light"
          }
        }
      ]
    },
    {
      "cell_type": "code",
      "metadata": {
        "id": "XfhDdEynZTN8",
        "colab_type": "code",
        "colab": {
          "base_uri": "https://localhost:8080/",
          "height": 282
        },
        "outputId": "3419144b-39b1-4c8b-f5cc-a8b3fabb6605"
      },
      "source": [
        "plt.plot(y_test, y_pred, 'bs', markersize=1)"
      ],
      "execution_count": null,
      "outputs": [
        {
          "output_type": "execute_result",
          "data": {
            "text/plain": [
              "[<matplotlib.lines.Line2D at 0x7fc94ab253c8>]"
            ]
          },
          "metadata": {
            "tags": []
          },
          "execution_count": 45
        },
        {
          "output_type": "display_data",
          "data": {
            "image/png": "[encoded data removed]",
            "text/plain": [
              "<Figure size 432x288 with 1 Axes>"
            ]
          },
          "metadata": {
            "tags": [],
            "needs_background": "light"
          }
        }
      ]
    },
    {
      "cell_type": "code",
      "metadata": {
        "id": "WZyxtwbUa6Rf",
        "colab_type": "code",
        "colab": {
          "base_uri": "https://localhost:8080/",
          "height": 53
        },
        "outputId": "854e5b29-f44c-4976-e452-6472a306414a"
      },
      "source": [
        "print('carinality of w hat: %d'%sum(np.abs(west.value) < 0.01))\n",
        "print('carinality of w ground truth: %d'%sum(np.abs(w) < 0.01))"
      ],
      "execution_count": null,
      "outputs": [
        {
          "output_type": "stream",
          "text": [
            "carinality of w hat: 120\n",
            "carinality of w ground truth: 102\n"
          ],
          "name": "stdout"
        }
      ]
    },
    {
      "cell_type": "markdown",
      "metadata": {
        "id": "DXod1ji5txda",
        "colab_type": "text"
      },
      "source": [
        "#Problem 3"
      ]
    },
    {
      "cell_type": "markdown",
      "metadata": {
        "id": "lk-hYNIusUiI",
        "colab_type": "text"
      },
      "source": [
        "##Problem3-3"
      ]
    },
    {
      "cell_type": "code",
      "metadata": {
        "id": "1yiQhqTNuB0X",
        "colab_type": "code",
        "colab": {
          "base_uri": "https://localhost:8080/",
          "height": 578
        },
        "outputId": "0c165b4c-1a68-43c9-8b4d-1a2ff6ba013e"
      },
      "source": [
        "import matplotlib.pyplot as plt\n",
        "l,v=np.linalg.eig(np.dot(x_d4.T,x_d4))\n",
        "eta=1/(1.01*np.max(l))*4\n",
        "num_iter=10000\n",
        "alpha=np.random.rand(200,1)\n",
        "lam=1.0\n",
        "K=np.zeros((200,200))\n",
        "w_hat=np.zeros((5,1))\n",
        "La_history=[]\n",
        "Lw_history=[]\n",
        "for i in range(200):\n",
        "  for j in range(200):\n",
        "    K[i][j]=y_d4[i]*y_d4[j]*np.dot(x_d4[i].T,x_d4[j])\n",
        "\n",
        "for t in range(1,num_iter):\n",
        "  #eta=1/np.sqrt(t)\n",
        "  wi=alpha-eta*(1/(2*lam)*np.dot(K,alpha)-1)\n",
        "  for i in range(200):\n",
        "    if wi[i]>=1:\n",
        "      alpha[i]=1\n",
        "    elif wi[i]<0:\n",
        "      alpha[i]=0\n",
        "    else:\n",
        "      alpha[i]=wi[i]\n",
        "  w_hat=1/(2*lam)*np.sum(alpha.reshape(200,1)*y_d4.reshape(200,1)*x_d4,axis=0)#*np.sum(x_d4,axis=0)\n",
        "  La=(-1/(4*lam)*np.dot(np.dot(alpha.T,K),alpha)+np.dot(alpha.T,np.ones((200,1))))[0][0]\n",
        "  La_history.append(La)\n",
        "  Lw=np.sum(np.maximum(np.zeros((200,1)),(np.ones((200,1))-(y_d4.reshape(200,1)*np.dot(x_d4,w_hat.reshape(5,1))).reshape(200,1))))+lam*np.sum(np.dot(w_hat.T,w_hat))\n",
        "  Lw_history.append(Lw)\n",
        "print(\"last value of La=\",La_history[-1])\n",
        "print(\"last value of Lw=\",Lw_history[-1])\n",
        "\n",
        "plt.figure()\n",
        "plt.plot(La_history, 'bo-', markersize=3, linewidth=0.5,label='La')\n",
        "plt.legend()\n",
        "plt.xlabel('iter')\n",
        "plt.ylabel('value of L(a)')\n",
        "plt.show()\n",
        "\n",
        "plt.figure()\n",
        "plt.plot(Lw_history, 'bo-', markersize=3, linewidth=0.5,label='Lw')\n",
        "plt.legend()\n",
        "plt.xlabel('iter')\n",
        "plt.ylabel('value of L(w)')\n",
        "plt.show()"
      ],
      "execution_count": 14,
      "outputs": [
        {
          "output_type": "stream",
          "text": [
            "last value of La= 47.362735797434986\n",
            "last value of Lw= 47.36451093424196\n"
          ],
          "name": "stdout"
        },
        {
          "output_type": "display_data",
          "data": {
            "image/png": "[encoded data removed]",
            "text/plain": [
              "<Figure size 432x288 with 1 Axes>"
            ]
          },
          "metadata": {
            "tags": [],
            "needs_background": "light"
          }
        },
        {
          "output_type": "display_data",
          "data": {
            "image/png": "[encoded data removed]",
            "text/plain": [
              "<Figure size 432x288 with 1 Axes>"
            ]
          },
          "metadata": {
            "tags": [],
            "needs_background": "light"
          }
        }
      ]
    }
  ]
}